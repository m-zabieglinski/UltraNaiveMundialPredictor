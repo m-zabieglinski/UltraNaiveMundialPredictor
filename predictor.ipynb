{
 "cells": [
  {
   "cell_type": "markdown",
   "id": "07d71fb0",
   "metadata": {},
   "source": [
    "# Ultra Naive Mundial Predictor\n",
    "#### Author: Mikołaj Zabiegliński\n",
    "#### https://github.com/m-zabieglinski/\n",
    "The goal of the assignment was to only predict win, loss, or draw for every match. No probabilities for every outcome were required. Hence, no advanced model was necessary. The only goal was to get a 1 / 0 type of prediction.\n",
    "\n",
    "<br/><br/> \n",
    "\n",
    "## Predicting model\n",
    "\n",
    "The Ultra Naive Mundial Predictor uses the latest official FIFA ranking (October 6th 2022). It uses 2 functions to predict a result for every match:\n",
    "#### pick_winner(team1, team2, ranking)\n",
    "always picks the higher ranked team in the ranking to win\n",
    "#### pick_winner_or_draw(team1, team2, delta ranking)\n",
    "always picks the higher ranked team in the ranking to win OR predicts a draw, if the ranking difference between the teams (score) is below certain treshold (delta). \n",
    "For the purpose of this project, delta was set so that 8 draws in the entire groupstage were guaranteed to happen (based on the ultra naive observation that Football Worldcup 2014 had 7 draws and Football Worldcup 2018 8 draws).\n",
    "\n",
    "<br/><br/> \n",
    "\n",
    "## Results\n",
    "The model does not adjust itself after any match. It uses only the latest FIFA ranking for every game, up to the finals. Hence, it of course predicts Brazil (the #1 team) as the overall winner.\n",
    "The results for each stage (8 groups and brackets) are in properly described cells in this notebook, which also runs the entire code necessary to get the predictions.\n",
    "\n",
    "## Other comments\n",
    "Each cell generating code contains comments describing the thought process behind each step and also the execution. The functions are likewise commented."
   ]
  },
  {
   "cell_type": "code",
   "execution_count": 3,
   "id": "59c577b4",
   "metadata": {},
   "outputs": [
    {
     "data": {
      "text/html": [
       "<div>\n",
       "<style scoped>\n",
       "    .dataframe tbody tr th:only-of-type {\n",
       "        vertical-align: middle;\n",
       "    }\n",
       "\n",
       "    .dataframe tbody tr th {\n",
       "        vertical-align: top;\n",
       "    }\n",
       "\n",
       "    .dataframe thead th {\n",
       "        text-align: right;\n",
       "    }\n",
       "</style>\n",
       "<table border=\"1\" class=\"dataframe\">\n",
       "  <thead>\n",
       "    <tr style=\"text-align: right;\">\n",
       "      <th></th>\n",
       "      <th>0</th>\n",
       "      <th>1</th>\n",
       "      <th>2</th>\n",
       "      <th>3</th>\n",
       "      <th>4</th>\n",
       "    </tr>\n",
       "  </thead>\n",
       "  <tbody>\n",
       "    <tr>\n",
       "      <th>0</th>\n",
       "      <td>1</td>\n",
       "      <td>Brazil</td>\n",
       "      <td>1841</td>\n",
       "      <td>0</td>\n",
       "      <td>4</td>\n",
       "    </tr>\n",
       "    <tr>\n",
       "      <th>1</th>\n",
       "      <td>2</td>\n",
       "      <td>Belgium</td>\n",
       "      <td>1817</td>\n",
       "      <td>0</td>\n",
       "      <td>-5</td>\n",
       "    </tr>\n",
       "    <tr>\n",
       "      <th>2</th>\n",
       "      <td>3</td>\n",
       "      <td>Argentina</td>\n",
       "      <td>1774</td>\n",
       "      <td>0</td>\n",
       "      <td>3</td>\n",
       "    </tr>\n",
       "    <tr>\n",
       "      <th>3</th>\n",
       "      <td>4</td>\n",
       "      <td>France</td>\n",
       "      <td>1760</td>\n",
       "      <td>0</td>\n",
       "      <td>-5</td>\n",
       "    </tr>\n",
       "    <tr>\n",
       "      <th>4</th>\n",
       "      <td>5</td>\n",
       "      <td>England</td>\n",
       "      <td>1728</td>\n",
       "      <td>0</td>\n",
       "      <td>-9</td>\n",
       "    </tr>\n",
       "    <tr>\n",
       "      <th>...</th>\n",
       "      <td>...</td>\n",
       "      <td>...</td>\n",
       "      <td>...</td>\n",
       "      <td>...</td>\n",
       "      <td>...</td>\n",
       "    </tr>\n",
       "    <tr>\n",
       "      <th>206</th>\n",
       "      <td>207</td>\n",
       "      <td>Sri Lanka</td>\n",
       "      <td>825</td>\n",
       "      <td>0</td>\n",
       "      <td>0</td>\n",
       "    </tr>\n",
       "    <tr>\n",
       "      <th>207</th>\n",
       "      <td>208</td>\n",
       "      <td>US Virgin Islands</td>\n",
       "      <td>824</td>\n",
       "      <td>0</td>\n",
       "      <td>0</td>\n",
       "    </tr>\n",
       "    <tr>\n",
       "      <th>208</th>\n",
       "      <td>209</td>\n",
       "      <td>British Virgin Islands</td>\n",
       "      <td>809</td>\n",
       "      <td>0</td>\n",
       "      <td>0</td>\n",
       "    </tr>\n",
       "    <tr>\n",
       "      <th>209</th>\n",
       "      <td>210</td>\n",
       "      <td>Anguilla</td>\n",
       "      <td>791</td>\n",
       "      <td>0</td>\n",
       "      <td>0</td>\n",
       "    </tr>\n",
       "    <tr>\n",
       "      <th>210</th>\n",
       "      <td>211</td>\n",
       "      <td>San Marino</td>\n",
       "      <td>762</td>\n",
       "      <td>0</td>\n",
       "      <td>-2</td>\n",
       "    </tr>\n",
       "  </tbody>\n",
       "</table>\n",
       "<p>211 rows × 5 columns</p>\n",
       "</div>"
      ],
      "text/plain": [
       "       0                        1     2  3  4\n",
       "0      1                  Brazil   1841  0  4\n",
       "1      2                 Belgium   1817  0 -5\n",
       "2      3               Argentina   1774  0  3\n",
       "3      4                  France   1760  0 -5\n",
       "4      5                 England   1728  0 -9\n",
       "..   ...                      ...   ... .. ..\n",
       "206  207               Sri Lanka    825  0  0\n",
       "207  208       US Virgin Islands    824  0  0\n",
       "208  209  British Virgin Islands    809  0  0\n",
       "209  210                Anguilla    791  0  0\n",
       "210  211              San Marino    762  0 -2\n",
       "\n",
       "[211 rows x 5 columns]"
      ]
     },
     "execution_count": 3,
     "metadata": {},
     "output_type": "execute_result"
    }
   ],
   "source": [
    "\"\"\"\n",
    "FIFA worldcup ranking for 06.10.2022 was manually copied from https://www.11v11.com .\n",
    "This was much easier and faster than trying to scrape either that site or the FIFA website.\n",
    "Example link that could be scraped off: https://www.11v11.com/teams/indonesia/option/ranking/\n",
    "\"\"\"\n",
    "import pandas as pd\n",
    "\n",
    "fifa_ranking = pd.read_csv(\"worldcup_ranking.csv\", sep = \"\\t\", header = None)\n",
    "fifa_ranking"
   ]
  },
  {
   "cell_type": "code",
   "execution_count": 4,
   "id": "3e75ee5e",
   "metadata": {},
   "outputs": [
    {
     "data": {
      "text/html": [
       "<div>\n",
       "<style scoped>\n",
       "    .dataframe tbody tr th:only-of-type {\n",
       "        vertical-align: middle;\n",
       "    }\n",
       "\n",
       "    .dataframe tbody tr th {\n",
       "        vertical-align: top;\n",
       "    }\n",
       "\n",
       "    .dataframe thead th {\n",
       "        text-align: right;\n",
       "    }\n",
       "</style>\n",
       "<table border=\"1\" class=\"dataframe\">\n",
       "  <thead>\n",
       "    <tr style=\"text-align: right;\">\n",
       "      <th></th>\n",
       "      <th>Team</th>\n",
       "      <th>Rating</th>\n",
       "    </tr>\n",
       "  </thead>\n",
       "  <tbody>\n",
       "    <tr>\n",
       "      <th>0</th>\n",
       "      <td>Brazil</td>\n",
       "      <td>1841</td>\n",
       "    </tr>\n",
       "    <tr>\n",
       "      <th>1</th>\n",
       "      <td>Belgium</td>\n",
       "      <td>1817</td>\n",
       "    </tr>\n",
       "    <tr>\n",
       "      <th>2</th>\n",
       "      <td>Argentina</td>\n",
       "      <td>1774</td>\n",
       "    </tr>\n",
       "    <tr>\n",
       "      <th>3</th>\n",
       "      <td>France</td>\n",
       "      <td>1760</td>\n",
       "    </tr>\n",
       "    <tr>\n",
       "      <th>4</th>\n",
       "      <td>England</td>\n",
       "      <td>1728</td>\n",
       "    </tr>\n",
       "    <tr>\n",
       "      <th>...</th>\n",
       "      <td>...</td>\n",
       "      <td>...</td>\n",
       "    </tr>\n",
       "    <tr>\n",
       "      <th>206</th>\n",
       "      <td>Sri Lanka</td>\n",
       "      <td>825</td>\n",
       "    </tr>\n",
       "    <tr>\n",
       "      <th>207</th>\n",
       "      <td>US Virgin Islands</td>\n",
       "      <td>824</td>\n",
       "    </tr>\n",
       "    <tr>\n",
       "      <th>208</th>\n",
       "      <td>British Virgin Islands</td>\n",
       "      <td>809</td>\n",
       "    </tr>\n",
       "    <tr>\n",
       "      <th>209</th>\n",
       "      <td>Anguilla</td>\n",
       "      <td>791</td>\n",
       "    </tr>\n",
       "    <tr>\n",
       "      <th>210</th>\n",
       "      <td>San Marino</td>\n",
       "      <td>762</td>\n",
       "    </tr>\n",
       "  </tbody>\n",
       "</table>\n",
       "<p>211 rows × 2 columns</p>\n",
       "</div>"
      ],
      "text/plain": [
       "                       Team  Rating\n",
       "0                    Brazil    1841\n",
       "1                   Belgium    1817\n",
       "2                 Argentina    1774\n",
       "3                    France    1760\n",
       "4                   England    1728\n",
       "..                      ...     ...\n",
       "206               Sri Lanka     825\n",
       "207       US Virgin Islands     824\n",
       "208  British Virgin Islands     809\n",
       "209                Anguilla     791\n",
       "210              San Marino     762\n",
       "\n",
       "[211 rows x 2 columns]"
      ]
     },
     "execution_count": 4,
     "metadata": {},
     "output_type": "execute_result"
    }
   ],
   "source": [
    "\"\"\"\n",
    "Cleaning the dataframe.\n",
    "\"\"\"\n",
    "fifa_ranking.drop(columns = [0, 3, 4], inplace = True)\n",
    "fifa_ranking.rename(columns = {1: \"Team\", 2: \"Rating\"}, inplace = True)\n",
    "fifa_ranking.Team = fifa_ranking.Team.apply(lambda x: x.strip())\n",
    "fifa_ranking"
   ]
  },
  {
   "cell_type": "code",
   "execution_count": 5,
   "id": "bee0db9f",
   "metadata": {},
   "outputs": [],
   "source": [
    "\"\"\"\n",
    "Got the rankings. Now the easy part: predictions.\n",
    "I will manually install every group/playoffs match in every cell.\n",
    "\n",
    "I will use the most trivial system:\n",
    "-never update the rankings based on the worldcup results\n",
    "-in playoffs:\n",
    "    -always pick the higher ranked team to win\n",
    "-in groups:\n",
    "    -only pick a draw if the ranking difference between the teams is smaller than the specified treshold\n",
    "    -otherwise, always pick the higher ranked team to win\n",
    "\"\"\"\n",
    "\n",
    "def pick_winner(Team_1, Team_2, ranking):\n",
    "    \"\"\"\n",
    "    The function picks the winner between 2 input teams, does not allow draws. \n",
    "    It always picks the team rated higher in the fifa_ranking dataframe.\n",
    "    It is assumed that no teams have the exact same rating.\n",
    "    Example:\n",
    "        >> pick_winner(\"Brazil\", \"San Marino\")\n",
    "        >> \"Brazil\"\n",
    "    \"\"\"\n",
    "    rating_1 = ranking[ranking.Team == Team_1].Rating.iloc[0]\n",
    "    rating_2 = ranking[ranking.Team == Team_2].Rating.iloc[0]\n",
    "    \n",
    "    if rating_1 > rating_2:\n",
    "        return Team_1\n",
    "    else:\n",
    "        return Team_2\n",
    "    \n",
    "def pick_winner_or_draw(Team_1, Team_2, delta, ranking):\n",
    "    \"\"\"\n",
    "    The function picks the winner between 2 input teams or determines a draw.\n",
    "    If the variable delta is higher than the ranking difference between the 2 teams, a draw is predicted.\n",
    "    Otherwise, it works like pick_winner().\n",
    "    Example:\n",
    "        >> pick_winner_or_draw(\"Brazil\", \"San Marino\", 10000)\n",
    "        >> \"Draw\"\n",
    "        >> pick_winner_or_draw(\"Brazil\", \"San Marino\", 1)\n",
    "        >> \"Brazil\"     \n",
    "    \"\"\"\n",
    "    rating_1 = ranking[ranking.Team == Team_1].Rating.iloc[0]\n",
    "    rating_2 = ranking[ranking.Team == Team_2].Rating.iloc[0]\n",
    "    rating_difference = rating_1 - rating_2\n",
    "    \n",
    "    if abs(rating_difference) < delta:\n",
    "        return \"Draw\"\n",
    "    elif rating_difference > 0:\n",
    "        return Team_1\n",
    "    else:\n",
    "        return Team_2"
   ]
  },
  {
   "cell_type": "code",
   "execution_count": 6,
   "id": "5a5f588e",
   "metadata": {},
   "outputs": [],
   "source": [
    "\"\"\"\n",
    "Setting the groups up:\n",
    "The groups were set manually as Python sets with country names.\n",
    "get_pairs() and get_teams_from_pair() create subsets of group member sets\n",
    "and splice those subsets into individual teams in a match, respectively.\n",
    "\"\"\"\n",
    "import itertools\n",
    "from itertools import combinations\n",
    "\n",
    "def get_pairs(teams):\n",
    "    \"\"\"\n",
    "    Creates a list of all subsets of set teams.\n",
    "    Example:\n",
    "    >> get_pairs(set([\"Qatar\", \"Ecuador\", \"Senegal\", \"Netherlands\"]))\n",
    "    >> [{'Ecuador', 'Senegal'},\n",
    "        {'Ecuador', 'Netherlands'},\n",
    "        {'Ecuador', 'Qatar'},\n",
    "        {'Netherlands', 'Senegal'},\n",
    "        {'Qatar', 'Senegal'},\n",
    "        {'Netherlands', 'Qatar'}]\n",
    "    \"\"\"\n",
    "    return list(map(set, itertools.combinations(teams, 2)))\n",
    "\n",
    "def get_teams_from_pair(pair):\n",
    "    \"\"\"\n",
    "    Returns 2 items from a subset. Meant to be used only on subsets of 2 items.\n",
    "    Example:\n",
    "    >> get_teams_from_pair({'Ecuador', 'Senegal'})\n",
    "    >> ('Ecuador', 'Senegal')\n",
    "    \"\"\"\n",
    "    team_1 = pair.pop()\n",
    "    team_2 = pair.pop()\n",
    "    return team_1, team_2"
   ]
  },
  {
   "cell_type": "code",
   "execution_count": 7,
   "id": "8754c06f",
   "metadata": {},
   "outputs": [],
   "source": [
    "\"\"\"\n",
    "Setting up the teams in groups, manually.\n",
    "\"\"\"\n",
    "group_A_teams = set([\"Qatar\", \"Ecuador\", \"Senegal\", \"Netherlands\"])\n",
    "group_B_teams = set([\"England\", \"Iran\", \"USA\", \"Wales\"])\n",
    "group_C_teams = set([\"Argentina\", \"Saudi Arabia\", \"Mexico\", \"Poland\"])\n",
    "group_D_teams = set([\"France\", \"Denmark\", \"Australia\", \"Tunisia\"])\n",
    "group_E_teams = set([\"Spain\", \"Costa Rica\", \"Germany\", \"Japan\"])\n",
    "group_F_teams = set([\"Belgium\", \"Canada\", \"Morocco\", \"Croatia\"])\n",
    "group_G_teams = set([\"Brazil\", \"Serbia\", \"Switzerland\", \"Cameroon\"])\n",
    "group_H_teams = set([\"Portugal\", \"Ghana\", \"Uruguay\", \"Korea Republic\"])"
   ]
  },
  {
   "cell_type": "code",
   "execution_count": 8,
   "id": "209efbbf",
   "metadata": {},
   "outputs": [
    {
     "name": "stdout",
     "output_type": "stream",
     "text": [
      "Delta is 73\n"
     ]
    }
   ],
   "source": [
    "\"\"\"\n",
    "Determining the delta.\n",
    "\n",
    "Proper prediction of a draw can only be made if the delta variable for pick_winner_or_draw() function is specified.\n",
    "Ideally, this variable cannot be too small, or pick_winner_or_draw() would behave like pick_winner().\n",
    "It cannot be too high, as we want to keep draws to be very small minority of all matches.\n",
    "Last worldcup, 9 out of 48 matches were drawn.\n",
    "The approach chosen is:\n",
    "    -determine the difference in ratings for all 48 matches played\n",
    "    -pick 9 with the smallest difference in ratings, expecting to get 9 draws this year as well\n",
    "    -set the delta equal to the largest ranking difference between teams that were decided to draw + 1\n",
    "This deterministically ensures that the algorithm will pick 9 draws, between the closest matched teams.\n",
    "This is recognized as not a good or proper but fits with the predictor's philosophy of employing simplest solution,\n",
    "based strictly on FIFA rankings before the tournament.\n",
    "\"\"\"\n",
    "rating_differences = []\n",
    "groups = [\n",
    "    group_A_teams,\n",
    "    group_B_teams,\n",
    "    group_C_teams,\n",
    "    group_D_teams,\n",
    "    group_E_teams,\n",
    "    group_F_teams,\n",
    "    group_G_teams,\n",
    "    group_H_teams,\n",
    "]\n",
    "ranking = fifa_ranking\n",
    "for group in groups:\n",
    "    for pair in get_pairs(group):\n",
    "        Team_1, Team_2 = get_teams_from_pair(pair)\n",
    "        rating_1 = ranking[ranking.Team == Team_1].Rating.iloc[0]\n",
    "        rating_2 = ranking[ranking.Team == Team_2].Rating.iloc[0]\n",
    "        rating_difference = abs(rating_1 - rating_2)\n",
    "        rating_differences.append(rating_difference)\n",
    "rating_differences.sort()\n",
    "delta = rating_differences[:9][-1] + 1\n",
    "print(f\"Delta is {delta}\")"
   ]
  },
  {
   "cell_type": "code",
   "execution_count": 9,
   "id": "cd13889c",
   "metadata": {},
   "outputs": [],
   "source": [
    "\"\"\"\n",
    "Building the predicting model for the groups\n",
    "\n",
    "The model used is extremely simplified:\n",
    "since the predicting function considers only wins, losses, and draws (no score) then predicting which teams advance\n",
    "from groups (which in the world cup based on total goals scored, and not just wins/losses) must be simplified.\n",
    "In the model used, every victory awards the team 1 point. Every loss and draw award 0 points.\n",
    "The group standings are ordered by points total.\n",
    "This also means that there might occur certain situations where 2 or more teams are tied in the group,\n",
    "but only 1 of them can advance. This is ignored by the predictor, it will forcefuly select 1 of them. \n",
    "\"\"\"\n",
    "class WorldCupGroup:\n",
    "    \"\"\"\n",
    "    WorldCupGroup is a class that's initiated by a list of teams in the group.\n",
    "    Methods:\n",
    "        -predict - predicts the group results, using an input ranking\n",
    "    Attributes:\n",
    "        -team_scores - returns all teams in the group and their predicted score as a dictionary\n",
    "        -match_scores - returns the predicted results of all matches in the group (winning team or draw)\n",
    "         as a list of dictionaries\n",
    "    \"\"\"\n",
    "    def __init__(self, teams):\n",
    "        self.teams = teams\n",
    "        self.pairs = get_pairs(self.teams)\n",
    "        self.team_scores = dict(zip(list(self.teams), [0, 0, 0, 0]))\n",
    "        self.match_scores = []\n",
    "        for pair in self.pairs:\n",
    "            Team_1, Team_2 = get_teams_from_pair(pair)\n",
    "            match_score = {\n",
    "                \"Team 1\": Team_1,\n",
    "                \"Team 2\": Team_2,\n",
    "                \"Result\": \"Nothing-yet\",\n",
    "            }\n",
    "            self.match_scores.append(match_score)\n",
    "            \n",
    "    def predict(self, ranking):\n",
    "        for match_score in self.match_scores:\n",
    "            match_result = pick_winner_or_draw(match_score[\"Team 1\"], match_score[\"Team 2\"], delta, ranking)\n",
    "            match_score[\"Result\"] = match_result\n",
    "            for k, v in self.team_scores.items():\n",
    "                if match_result == k:\n",
    "                    self.team_scores[k] += 1\n",
    "        \n",
    "        x = sorted(((v,k) for k,v in self.team_scores.items()))\n",
    "        self.advanced = [x[-1][1], x[-2][1]]\n",
    "        self.winner = self.advanced[0]\n",
    "        self.runnerup = self.advanced[1]\n",
    "        "
   ]
  },
  {
   "cell_type": "markdown",
   "id": "7fef0a61",
   "metadata": {},
   "source": [
    "# Group A predictions\n",
    "## Each line is a separate match, presented as a dictionary of 2 teams and the result."
   ]
  },
  {
   "cell_type": "code",
   "execution_count": 10,
   "id": "bdc95d58",
   "metadata": {},
   "outputs": [
    {
     "data": {
      "text/plain": [
       "[{'Team 1': 'Netherlands', 'Team 2': 'Qatar', 'Result': 'Netherlands'},\n",
       " {'Team 1': 'Netherlands', 'Team 2': 'Ecuador', 'Result': 'Netherlands'},\n",
       " {'Team 1': 'Netherlands', 'Team 2': 'Senegal', 'Result': 'Netherlands'},\n",
       " {'Team 1': 'Qatar', 'Team 2': 'Ecuador', 'Result': 'Draw'},\n",
       " {'Team 1': 'Qatar', 'Team 2': 'Senegal', 'Result': 'Senegal'},\n",
       " {'Team 1': 'Ecuador', 'Team 2': 'Senegal', 'Result': 'Senegal'}]"
      ]
     },
     "execution_count": 10,
     "metadata": {},
     "output_type": "execute_result"
    }
   ],
   "source": [
    "groupA = WorldCupGroup(group_A_teams)\n",
    "groupA.predict(fifa_ranking)\n",
    "groupA.match_scores"
   ]
  },
  {
   "cell_type": "markdown",
   "id": "eb7ba3c3",
   "metadata": {},
   "source": [
    "# Group B predictions\n",
    "## Each line is a separate match, presented as a dictionary of 2 teams and the result."
   ]
  },
  {
   "cell_type": "code",
   "execution_count": 11,
   "id": "8c7623a6",
   "metadata": {},
   "outputs": [
    {
     "data": {
      "text/plain": [
       "[{'Team 1': 'USA', 'Team 2': 'Iran', 'Result': 'Draw'},\n",
       " {'Team 1': 'USA', 'Team 2': 'England', 'Result': 'England'},\n",
       " {'Team 1': 'USA', 'Team 2': 'Wales', 'Result': 'Draw'},\n",
       " {'Team 1': 'Iran', 'Team 2': 'England', 'Result': 'England'},\n",
       " {'Team 1': 'Iran', 'Team 2': 'Wales', 'Result': 'Draw'},\n",
       " {'Team 1': 'England', 'Team 2': 'Wales', 'Result': 'England'}]"
      ]
     },
     "execution_count": 11,
     "metadata": {},
     "output_type": "execute_result"
    }
   ],
   "source": [
    "groupB = WorldCupGroup(group_B_teams)\n",
    "groupB.predict(fifa_ranking)\n",
    "groupB.match_scores"
   ]
  },
  {
   "cell_type": "markdown",
   "id": "b7eab355",
   "metadata": {},
   "source": [
    "# Group C predictions\n",
    "## Each line is a separate match, presented as a dictionary of 2 teams and the result."
   ]
  },
  {
   "cell_type": "code",
   "execution_count": 12,
   "id": "cb0645fb",
   "metadata": {},
   "outputs": [
    {
     "data": {
      "text/plain": [
       "[{'Team 1': 'Saudi Arabia', 'Team 2': 'Mexico', 'Result': 'Mexico'},\n",
       " {'Team 1': 'Saudi Arabia', 'Team 2': 'Poland', 'Result': 'Poland'},\n",
       " {'Team 1': 'Saudi Arabia', 'Team 2': 'Argentina', 'Result': 'Argentina'},\n",
       " {'Team 1': 'Mexico', 'Team 2': 'Poland', 'Result': 'Mexico'},\n",
       " {'Team 1': 'Mexico', 'Team 2': 'Argentina', 'Result': 'Argentina'},\n",
       " {'Team 1': 'Poland', 'Team 2': 'Argentina', 'Result': 'Argentina'}]"
      ]
     },
     "execution_count": 12,
     "metadata": {},
     "output_type": "execute_result"
    }
   ],
   "source": [
    "groupC = WorldCupGroup(group_C_teams)\n",
    "groupC.predict(fifa_ranking)\n",
    "groupC.match_scores"
   ]
  },
  {
   "cell_type": "markdown",
   "id": "8a47e4a5",
   "metadata": {},
   "source": [
    "# Group D predictions\n",
    "## Each line is a separate match, presented as a dictionary of 2 teams and the result."
   ]
  },
  {
   "cell_type": "code",
   "execution_count": 13,
   "id": "4d2192fa",
   "metadata": {},
   "outputs": [
    {
     "data": {
      "text/plain": [
       "[{'Team 1': 'Denmark', 'Team 2': 'Australia', 'Result': 'Denmark'},\n",
       " {'Team 1': 'Denmark', 'Team 2': 'France', 'Result': 'France'},\n",
       " {'Team 1': 'Denmark', 'Team 2': 'Tunisia', 'Result': 'Denmark'},\n",
       " {'Team 1': 'Australia', 'Team 2': 'France', 'Result': 'France'},\n",
       " {'Team 1': 'Australia', 'Team 2': 'Tunisia', 'Result': 'Draw'},\n",
       " {'Team 1': 'France', 'Team 2': 'Tunisia', 'Result': 'France'}]"
      ]
     },
     "execution_count": 13,
     "metadata": {},
     "output_type": "execute_result"
    }
   ],
   "source": [
    "groupD = WorldCupGroup(group_D_teams)\n",
    "groupD.predict(fifa_ranking)\n",
    "groupD.match_scores"
   ]
  },
  {
   "cell_type": "markdown",
   "id": "c58245fc",
   "metadata": {},
   "source": [
    "# Group E predictions\n",
    "## Each line is a separate match, presented as a dictionary of 2 teams and the result."
   ]
  },
  {
   "cell_type": "code",
   "execution_count": 14,
   "id": "c92320bf",
   "metadata": {},
   "outputs": [
    {
     "data": {
      "text/plain": [
       "[{'Team 1': 'Spain', 'Team 2': 'Germany', 'Result': 'Draw'},\n",
       " {'Team 1': 'Costa Rica', 'Team 2': 'Germany', 'Result': 'Germany'},\n",
       " {'Team 1': 'Germany', 'Team 2': 'Japan', 'Result': 'Germany'},\n",
       " {'Team 1': 'Spain', 'Team 2': 'Costa Rica', 'Result': 'Spain'},\n",
       " {'Team 1': 'Spain', 'Team 2': 'Japan', 'Result': 'Spain'},\n",
       " {'Team 1': 'Costa Rica', 'Team 2': 'Japan', 'Result': 'Draw'}]"
      ]
     },
     "execution_count": 14,
     "metadata": {},
     "output_type": "execute_result"
    }
   ],
   "source": [
    "groupE = WorldCupGroup(group_E_teams)\n",
    "groupE.predict(fifa_ranking)\n",
    "groupE.match_scores"
   ]
  },
  {
   "cell_type": "markdown",
   "id": "70c8dbdc",
   "metadata": {},
   "source": [
    "# Group F predictions\n",
    "## Each line is a separate match, presented as a dictionary of 2 teams and the result."
   ]
  },
  {
   "cell_type": "code",
   "execution_count": 15,
   "id": "0086895d",
   "metadata": {},
   "outputs": [
    {
     "data": {
      "text/plain": [
       "[{'Team 1': 'Canada', 'Team 2': 'Croatia', 'Result': 'Croatia'},\n",
       " {'Team 1': 'Croatia', 'Team 2': 'Belgium', 'Result': 'Belgium'},\n",
       " {'Team 1': 'Croatia', 'Team 2': 'Morocco', 'Result': 'Croatia'},\n",
       " {'Team 1': 'Canada', 'Team 2': 'Belgium', 'Result': 'Belgium'},\n",
       " {'Team 1': 'Canada', 'Team 2': 'Morocco', 'Result': 'Morocco'},\n",
       " {'Team 1': 'Belgium', 'Team 2': 'Morocco', 'Result': 'Belgium'}]"
      ]
     },
     "execution_count": 15,
     "metadata": {},
     "output_type": "execute_result"
    }
   ],
   "source": [
    "groupF = WorldCupGroup(group_F_teams)\n",
    "groupF.predict(fifa_ranking)\n",
    "groupF.match_scores"
   ]
  },
  {
   "cell_type": "markdown",
   "id": "9b38e221",
   "metadata": {},
   "source": [
    "# Group G predictions\n",
    "## Each line is a separate match, presented as a dictionary of 2 teams and the result."
   ]
  },
  {
   "cell_type": "code",
   "execution_count": 16,
   "id": "829a309a",
   "metadata": {},
   "outputs": [
    {
     "data": {
      "text/plain": [
       "[{'Team 1': 'Serbia', 'Team 2': 'Switzerland', 'Result': 'Draw'},\n",
       " {'Team 1': 'Serbia', 'Team 2': 'Brazil', 'Result': 'Brazil'},\n",
       " {'Team 1': 'Serbia', 'Team 2': 'Cameroon', 'Result': 'Serbia'},\n",
       " {'Team 1': 'Switzerland', 'Team 2': 'Brazil', 'Result': 'Brazil'},\n",
       " {'Team 1': 'Cameroon', 'Team 2': 'Switzerland', 'Result': 'Switzerland'},\n",
       " {'Team 1': 'Cameroon', 'Team 2': 'Brazil', 'Result': 'Brazil'}]"
      ]
     },
     "execution_count": 16,
     "metadata": {},
     "output_type": "execute_result"
    }
   ],
   "source": [
    "groupG = WorldCupGroup(group_G_teams)\n",
    "groupG.predict(fifa_ranking)\n",
    "groupG.match_scores"
   ]
  },
  {
   "cell_type": "markdown",
   "id": "9ef5ec05",
   "metadata": {},
   "source": [
    "# Group H predictions\n",
    "## Each line is a separate match, presented as a dictionary of 2 teams and the result."
   ]
  },
  {
   "cell_type": "code",
   "execution_count": 17,
   "id": "ed863368",
   "metadata": {},
   "outputs": [
    {
     "data": {
      "text/plain": [
       "[{'Team 1': 'Korea Republic', 'Team 2': 'Uruguay', 'Result': 'Uruguay'},\n",
       " {'Team 1': 'Korea Republic', 'Team 2': 'Portugal', 'Result': 'Portugal'},\n",
       " {'Team 1': 'Korea Republic', 'Team 2': 'Ghana', 'Result': 'Korea Republic'},\n",
       " {'Team 1': 'Portugal', 'Team 2': 'Uruguay', 'Result': 'Draw'},\n",
       " {'Team 1': 'Ghana', 'Team 2': 'Uruguay', 'Result': 'Uruguay'},\n",
       " {'Team 1': 'Portugal', 'Team 2': 'Ghana', 'Result': 'Portugal'}]"
      ]
     },
     "execution_count": 17,
     "metadata": {},
     "output_type": "execute_result"
    }
   ],
   "source": [
    "groupH = WorldCupGroup(group_H_teams)\n",
    "groupH.predict(fifa_ranking)\n",
    "groupH.match_scores"
   ]
  },
  {
   "cell_type": "markdown",
   "id": "5b77379f",
   "metadata": {},
   "source": [
    "# Group advances predictions\n",
    "## Each line gives teams advancing from each group, in the 1st and 2nd place respectively."
   ]
  },
  {
   "cell_type": "code",
   "execution_count": 18,
   "id": "f9debc32",
   "metadata": {
    "scrolled": true
   },
   "outputs": [
    {
     "name": "stdout",
     "output_type": "stream",
     "text": [
      "Predicted to advance from Group A: 1.Netherlands, 2.Senegal\n",
      "Predicted to advance from Group B: 1.England, 2.Wales\n",
      "Predicted to advance from Group C: 1.Argentina, 2.Mexico\n",
      "Predicted to advance from Group D: 1.France, 2.Denmark\n",
      "Predicted to advance from Group F: 1.Spain, 2.Germany\n",
      "Predicted to advance from Group G: 1.Belgium, 2.Croatia\n",
      "Predicted to advance from Group H: 1.Brazil, 2.Switzerland\n"
     ]
    }
   ],
   "source": [
    "for group in list(zip([groupA, groupB, groupC, groupD, groupE, groupF, groupG, groupH], [\"A\", \"B\", \"C\", \"D\", \"F\", \"G\", \"H\"])):\n",
    "    print(f\"Predicted to advance from Group {group[1]}: 1.{group[0].winner}, 2.{group[0].runnerup}\")"
   ]
  },
  {
   "cell_type": "markdown",
   "id": "57bf2e1a",
   "metadata": {},
   "source": [
    "# Bracket results predictions\n",
    "## Each block of text gives the prediction for the teams advancing in each round of the bracket"
   ]
  },
  {
   "cell_type": "code",
   "execution_count": 19,
   "id": "c95945ca",
   "metadata": {},
   "outputs": [
    {
     "name": "stdout",
     "output_type": "stream",
     "text": [
      "Ro16 winners:\n",
      "Netherlands\n",
      "Argentina\n",
      "Spain\n",
      "Brazil\n",
      "England\n",
      "France\n",
      "Belgium\n",
      "Uruguay\n",
      "\n",
      "\n",
      "Ro8 winners:\n",
      "Argentina\n",
      "Brazil\n",
      "France\n",
      "Belgium\n",
      "\n",
      "\n",
      "Ro4 winners:\n",
      "Brazil\n",
      "Belgium\n",
      "\n",
      "\n",
      "Worldcup winner:\n",
      "Brazil\n"
     ]
    }
   ],
   "source": [
    "\"\"\"\n",
    "Proceeding to the bracket:\n",
    "Every cell will have matches of teams that advanced from the previous stage, using the world cup brackets as reference\n",
    "\"\"\"\n",
    "\n",
    "#ROUND OF 16\n",
    "ro16_match_1_winner = pick_winner(groupA.winner, groupB.runnerup, fifa_ranking)\n",
    "ro16_match_2_winner = pick_winner(groupC.winner, groupD.runnerup, fifa_ranking)\n",
    "ro16_match_3_winner = pick_winner(groupE.winner, groupF.runnerup, fifa_ranking)\n",
    "ro16_match_4_winner = pick_winner(groupG.winner, groupH.runnerup, fifa_ranking)\n",
    "ro16_match_5_winner = pick_winner(groupB.winner, groupA.runnerup, fifa_ranking)\n",
    "ro16_match_6_winner = pick_winner(groupD.winner, groupC.runnerup, fifa_ranking)\n",
    "ro16_match_7_winner = pick_winner(groupF.winner, groupE.runnerup, fifa_ranking)\n",
    "ro16_match_8_winner = pick_winner(groupH.winner, groupG.runnerup, fifa_ranking)\n",
    "\n",
    "print(\"Ro16 winners:\")\n",
    "for i in range(8):\n",
    "    print(globals()[f\"ro16_match_{i+1}_winner\"])\n",
    "    \n",
    "print(\"\\n\")    \n",
    "#ROUND OF 8\n",
    "ro8_match_1_winner = pick_winner(ro16_match_1_winner, ro16_match_2_winner, fifa_ranking)\n",
    "ro8_match_2_winner = pick_winner(ro16_match_3_winner, ro16_match_4_winner, fifa_ranking)\n",
    "ro8_match_3_winner = pick_winner(ro16_match_5_winner, ro16_match_6_winner, fifa_ranking)\n",
    "ro8_match_4_winner = pick_winner(ro16_match_7_winner, ro16_match_8_winner, fifa_ranking)\n",
    "\n",
    "print(\"Ro8 winners:\")\n",
    "for i in range(4):\n",
    "    print(globals()[f\"ro8_match_{i+1}_winner\"])\n",
    "\n",
    "print(\"\\n\") \n",
    "#ROUND OF 4\n",
    "ro4_match_1_winner = pick_winner(ro8_match_1_winner, ro8_match_2_winner, fifa_ranking)\n",
    "ro4_match_2_winner = pick_winner(ro8_match_3_winner, ro8_match_4_winner, fifa_ranking)\n",
    "\n",
    "print(\"Ro4 winners:\")\n",
    "for i in range(2):\n",
    "    print(globals()[f\"ro4_match_{i+1}_winner\"])\n",
    "\n",
    "print(\"\\n\") \n",
    "#ROUND OF 2\n",
    "overall_winner = pick_winner(ro8_match_1_winner, ro8_match_2_winner, fifa_ranking)\n",
    "print(\"Worldcup winner:\")\n",
    "print(overall_winner)\n"
   ]
  },
  {
   "cell_type": "markdown",
   "id": "8a767d66",
   "metadata": {},
   "source": [
    "# Manual bracket results predictions\n",
    "\n",
    "## The model of course did not correctly predict all group advancements, hence the input from now on will be manual for each playoffs round"
   ]
  },
  {
   "cell_type": "markdown",
   "id": "9090989b",
   "metadata": {},
   "source": [
    "# Round of 16"
   ]
  },
  {
   "cell_type": "code",
   "execution_count": 20,
   "id": "f2b30adc",
   "metadata": {},
   "outputs": [
    {
     "name": "stdout",
     "output_type": "stream",
     "text": [
      "Ro16 winners:\n",
      "Netherlands\n",
      "Argentina\n",
      "Croatia\n",
      "Brazil\n",
      "England\n",
      "France\n",
      "Spain\n",
      "Portugal\n"
     ]
    }
   ],
   "source": [
    "#ROUND OF 16\n",
    "ro16_match_1_winner = pick_winner(\"Netherlands\", \"USA\", fifa_ranking)\n",
    "ro16_match_2_winner = pick_winner(\"Argentina\", \"Australia\", fifa_ranking)\n",
    "ro16_match_3_winner = pick_winner(\"Japan\", \"Croatia\", fifa_ranking)\n",
    "ro16_match_4_winner = pick_winner(\"Brazil\", \"Korea Republic\", fifa_ranking)\n",
    "ro16_match_5_winner = pick_winner(\"England\", \"Senegal\", fifa_ranking)\n",
    "ro16_match_6_winner = pick_winner(\"France\", \"Poland\", fifa_ranking)\n",
    "ro16_match_7_winner = pick_winner(\"Morocco\", \"Spain\", fifa_ranking)\n",
    "ro16_match_8_winner = pick_winner(\"Portugal\", \"Switzerland\", fifa_ranking)\n",
    "\n",
    "print(\"Ro16 winners:\")\n",
    "for i in range(8):\n",
    "    print(globals()[f\"ro16_match_{i+1}_winner\"])"
   ]
  },
  {
   "cell_type": "markdown",
   "id": "351348d6",
   "metadata": {},
   "source": [
    "# Round of 8"
   ]
  },
  {
   "cell_type": "code",
   "execution_count": 23,
   "id": "c148b2aa",
   "metadata": {},
   "outputs": [
    {
     "name": "stdout",
     "output_type": "stream",
     "text": [
      "Ro8 winners:\n",
      "Argentina\n",
      "Brazil\n",
      "France\n",
      "Portugal\n"
     ]
    }
   ],
   "source": [
    "#ROUND OF 8\n",
    "ro8_match_1_winner = pick_winner(\"Netherlands\", \"Argentina\", fifa_ranking)\n",
    "ro8_match_2_winner = pick_winner(\"Croatia\", \"Brazil\", fifa_ranking)\n",
    "ro8_match_3_winner = pick_winner(\"England\", \"France\", fifa_ranking)\n",
    "ro8_match_4_winner = pick_winner(\"Morocco\", \"Portugal\", fifa_ranking)\n",
    "\n",
    "print(\"Ro8 winners:\")\n",
    "for i in range(4):\n",
    "    print(globals()[f\"ro8_match_{i+1}_winner\"])"
   ]
  },
  {
   "cell_type": "code",
   "execution_count": null,
   "id": "bc8e17ce",
   "metadata": {},
   "outputs": [],
   "source": []
  }
 ],
 "metadata": {
  "kernelspec": {
   "display_name": "Python 3",
   "language": "python",
   "name": "python3"
  },
  "language_info": {
   "codemirror_mode": {
    "name": "ipython",
    "version": 3
   },
   "file_extension": ".py",
   "mimetype": "text/x-python",
   "name": "python",
   "nbconvert_exporter": "python",
   "pygments_lexer": "ipython3",
   "version": "3.8.8"
  }
 },
 "nbformat": 4,
 "nbformat_minor": 5
}
